{
 "cells": [
  {
   "cell_type": "code",
   "execution_count": 80,
   "metadata": {},
   "outputs": [],
   "source": [
    "import random\n",
    "import chess\n",
    "import pgn\n",
    "import sys\n",
    "import numpy as np\n",
    "from keras import layers\n",
    "from keras import models\n",
    "import copy\n",
    "from keras import utils\n",
    "from random import randrange"
   ]
  },
  {
   "cell_type": "markdown",
   "metadata": {},
   "source": [
    "The paper I'm loosely replicating"
   ]
  },
  {
   "cell_type": "markdown",
   "metadata": {},
   "source": [
    "https://www.cs.tau.ac.il/~wolf/papers/deepchess.pdf"
   ]
  },
  {
   "cell_type": "code",
   "execution_count": 81,
   "metadata": {},
   "outputs": [],
   "source": [
    "random.seed(1)"
   ]
  },
  {
   "cell_type": "markdown",
   "metadata": {},
   "source": [
    "Define useful functions"
   ]
  },
  {
   "cell_type": "code",
   "execution_count": 82,
   "metadata": {},
   "outputs": [],
   "source": [
    "def shorten_string(s):\n",
    "    s = s[:s.rfind(\" \")]\n",
    "    return s\n",
    "\n",
    "def fen_to_bit(f):\n",
    "    pieces = {\n",
    "        'p': 1,\n",
    "        'P': 7,\n",
    "        'n': 2,\n",
    "        'N': 8,\n",
    "        'b': 3,\n",
    "        'B': 9,\n",
    "        'r': 4,\n",
    "        'R': 10,\n",
    "        'q': 5,\n",
    "        'Q': 11,\n",
    "        'k': 6,\n",
    "        'K': 12\n",
    "            }\n",
    "    \n",
    "    f = shorten_string(f)\n",
    "\n",
    "    for i in range(2):\n",
    "        f = shorten_string(f)\n",
    "\n",
    "    piece_squares = np.zeros(64)\n",
    "    ranks = shorten_string(shorten_string(f)).split('/')\n",
    "    \n",
    "    for rank_count,rank in enumerate(ranks):\n",
    "        #print(rank_count)\n",
    "        file_count = 0\n",
    "        for item in rank:\n",
    "\n",
    "            if item.isnumeric():\n",
    "                file_count += int(item)\n",
    "            else:\n",
    "                piece_squares[(file_count + (8 * (rank_count)))] = pieces[item]\n",
    "                file_count += 1\n",
    "    \n",
    "    all_bits = np.zeros(64*12)\n",
    "    for c,square in enumerate(piece_squares):\n",
    "        if square > 0:\n",
    "            all_bits[int((max((square-1),0) * 64) + c)] = 1\n",
    "            \n",
    "    to_move = shorten_string(f)[-1]\n",
    "    if to_move == 'w':\n",
    "        all_bits = np.append(all_bits,1)\n",
    "    else:\n",
    "        all_bits = np.append(all_bits,0)\n",
    "    \n",
    "    castle = f[-4:]\n",
    "    for letter in 'KQkq':\n",
    "        if letter in castle:\n",
    "            all_bits = np.append(all_bits,1)\n",
    "        else:\n",
    "            all_bits = np.append(all_bits,0)\n",
    "    return(all_bits)"
   ]
  },
  {
   "cell_type": "markdown",
   "metadata": {},
   "source": [
    "## Chess stuff"
   ]
  },
  {
   "cell_type": "code",
   "execution_count": null,
   "metadata": {},
   "outputs": [],
   "source": [
    "!pwd"
   ]
  },
  {
   "cell_type": "code",
   "execution_count": null,
   "metadata": {},
   "outputs": [],
   "source": [
    "import csv"
   ]
  },
  {
   "cell_type": "markdown",
   "metadata": {},
   "source": [
    "This process can be performed using the python script in the directory as well for faster results."
   ]
  },
  {
   "cell_type": "code",
   "execution_count": null,
   "metadata": {},
   "outputs": [],
   "source": [
    "print('loading data...')\n",
    "white_positions = []\n",
    "with open('random_white_positions_3956350.csv') as csvfile:\n",
    "    r = csv.reader(csvfile, delimiter=',')\n",
    "    for row in r:\n",
    "        white_positions.append(row)\n",
    "\n",
    "black_positions = []\n",
    "with open('random_black_positions_2928400.csv') as csvfile:\n",
    "    r = csv.reader(csvfile, delimiter=',')\n",
    "    for row in r:\n",
    "        black_positions.append(row)\n",
    "\n",
    "\n",
    "print('setting up bits holders')\n",
    "#num_positions = 1000000\n",
    "white_bits = np.zeros((len(white_positions),773))\n",
    "black_bits = np.zeros((len(black_positions),773))"
   ]
  },
  {
   "cell_type": "code",
   "execution_count": null,
   "metadata": {},
   "outputs": [],
   "source": [
    "white_positions[0][:5]"
   ]
  },
  {
   "cell_type": "markdown",
   "metadata": {},
   "source": [
    "Set number of positions to use"
   ]
  },
  {
   "cell_type": "code",
   "execution_count": null,
   "metadata": {},
   "outputs": [],
   "source": [
    "num_positions = 10000 # 10000 is for example, recommended to use many more"
   ]
  },
  {
   "cell_type": "markdown",
   "metadata": {},
   "source": [
    "This section of code converts the fen positions to bits. In addition, it alternates placing white wins and black wins in either bits1 or bits2 with corresponding labels in y, though later I just use a generator that pulls specific y values at that point."
   ]
  },
  {
   "cell_type": "code",
   "execution_count": null,
   "metadata": {},
   "outputs": [],
   "source": [
    "bits1 = np.zeros((num_positions,773))\n",
    "bits2 = np.zeros((num_positions,773))\n",
    "count = 0\n",
    "y = np.zeros((num_positions,2))\n",
    "while count < num_positions:\n",
    "    if count%10000 == 0:\n",
    "        print(count)\n",
    "    white_position = white_positions[randrange(0,len(white_positions)-1)]\n",
    "    board = chess.Board()\n",
    "    for move in white_position:\n",
    "        board.push_san(move)\n",
    "    \n",
    "    white_bits = fen_to_bit(board.fen())\n",
    "\n",
    "    black_position = black_positions[randrange(0,len(black_positions)-1)]\n",
    "    board = chess.Board()\n",
    "    for move in black_position:\n",
    "        board.push_san(move)\n",
    "    \n",
    "    black_bits = fen_to_bit(board.fen())\n",
    "    \n",
    "    order = randrange(0,2)\n",
    "\n",
    "    if order == 0:\n",
    "        bits1[count,:] = white_bits\n",
    "        bits2[count,:] = black_bits\n",
    "        y[count,:] = [1,0]\n",
    "    if order == 1:\n",
    "        bits1[count,:] = black_bits\n",
    "        bits2[count,:] = white_bits\n",
    "        y[count,:] = [0,1]\n",
    "    count+=1"
   ]
  },
  {
   "cell_type": "markdown",
   "metadata": {},
   "source": [
    "Start here if preprocessing was done outisde of the notebook"
   ]
  },
  {
   "cell_type": "code",
   "execution_count": 83,
   "metadata": {},
   "outputs": [],
   "source": [
    "from sklearn.model_selection import train_test_split"
   ]
  },
  {
   "cell_type": "code",
   "execution_count": 84,
   "metadata": {},
   "outputs": [],
   "source": [
    "from keras.layers import Input, Conv2D, Lambda, merge, Dense, Flatten,MaxPooling2D,Activation, Dropout\n",
    "from keras.models import Model, Sequential\n",
    "from keras.regularizers import l2\n",
    "from keras import backend as K\n",
    "from keras.optimizers import Adam\n",
    "from skimage.io import imshow\n",
    "import matplotlib.pyplot as plt\n",
    "import numpy as np\n",
    "import pandas as pd\n",
    "import random\n",
    "from sklearn.utils import shuffle\n",
    "import tensorflow as tf"
   ]
  },
  {
   "cell_type": "code",
   "execution_count": 85,
   "metadata": {},
   "outputs": [],
   "source": [
    "tf.compat.v1.enable_eager_execution(\n",
    "    config=None, device_policy=None, execution_mode=None\n",
    ")"
   ]
  },
  {
   "cell_type": "code",
   "execution_count": 86,
   "metadata": {},
   "outputs": [],
   "source": [
    "# import importlib\n",
    "# importlib.reload(keras)"
   ]
  },
  {
   "cell_type": "code",
   "execution_count": null,
   "metadata": {},
   "outputs": [],
   "source": [
    "bits_white = np.load('./bits_white_3956350.npy')\n",
    "bits_black = np.load('./bits_black_2928400.npy')"
   ]
  },
  {
   "cell_type": "code",
   "execution_count": null,
   "metadata": {},
   "outputs": [],
   "source": [
    "l = 100000"
   ]
  },
  {
   "cell_type": "markdown",
   "metadata": {},
   "source": [
    "split into train and validation"
   ]
  },
  {
   "cell_type": "code",
   "execution_count": null,
   "metadata": {},
   "outputs": [],
   "source": [
    "bits_white_train = bits_white[round(l):,:]\n",
    "bits_black_train = bits_black[round(l):,:]\n",
    "\n",
    "bits_white_val = bits_white[:round(l),:]\n",
    "bits_black_val = bits_black[:round(l),:]"
   ]
  },
  {
   "cell_type": "code",
   "execution_count": null,
   "metadata": {},
   "outputs": [],
   "source": [
    "# bits_white = shuffle(bits_white,random_state=1)\n",
    "# bits_black = shuffle(bits_black,random_state=1)"
   ]
  },
  {
   "cell_type": "code",
   "execution_count": null,
   "metadata": {},
   "outputs": [],
   "source": []
  },
  {
   "cell_type": "code",
   "execution_count": null,
   "metadata": {},
   "outputs": [],
   "source": [
    "print(len(bits_white_train))\n",
    "print(len(bits_black_train))\n",
    "print(len(bits_white_val))\n",
    "print(len(bits_black_val))"
   ]
  },
  {
   "cell_type": "code",
   "execution_count": null,
   "metadata": {},
   "outputs": [],
   "source": [
    "# white_win_left = []\n",
    "# white_win_right = []\n",
    "# for num,pair in enumerate(y_train[:]):\n",
    "#     #print(pair[0])\n",
    "#     if pair[0] == 1:\n",
    "#         #print('here')\n",
    "#         white_win_left.append(num)\n",
    "#         #white_win_right.append(0)\n",
    "#     else:\n",
    "#         #white_win_left.append(0)\n",
    "#         white_win_right.append(num)"
   ]
  },
  {
   "cell_type": "markdown",
   "metadata": {},
   "source": [
    "# Autoencoder"
   ]
  },
  {
   "cell_type": "code",
   "execution_count": 87,
   "metadata": {},
   "outputs": [],
   "source": [
    "import keras"
   ]
  },
  {
   "cell_type": "markdown",
   "metadata": {},
   "source": [
    "I pulled this DenseTied class from elsewhere to use here"
   ]
  },
  {
   "cell_type": "code",
   "execution_count": 88,
   "metadata": {},
   "outputs": [],
   "source": [
    "class DenseTied(keras.layers.Layer):\n",
    "    def __init__(self, units,\n",
    "                 activation=None,\n",
    "                 use_bias=True,\n",
    "                 kernel_initializer='glorot_uniform',\n",
    "                 bias_initializer='zeros',\n",
    "                 kernel_regularizer=None,\n",
    "                 bias_regularizer=None,\n",
    "                 activity_regularizer=None,\n",
    "                 kernel_constraint=None,\n",
    "                 bias_constraint=None,\n",
    "                 tied_to=None,\n",
    "                 **kwargs):\n",
    "        self.tied_to = tied_to\n",
    "        if 'input_shape' not in kwargs and 'input_dim' in kwargs:\n",
    "            kwargs['input_shape'] = (kwargs.pop('input_dim'),)\n",
    "        super().__init__(**kwargs)\n",
    "        self.units = units\n",
    "        self.activation = keras.activations.get(activation)\n",
    "        self.use_bias = use_bias\n",
    "        self.kernel_initializer = keras.initializers.get(kernel_initializer)\n",
    "        self.bias_initializer = keras.initializers.get(bias_initializer)\n",
    "        self.kernel_regularizer = keras.regularizers.get(kernel_regularizer)\n",
    "        self.bias_regularizer = keras.regularizers.get(bias_regularizer)\n",
    "        self.activity_regularizer = keras.regularizers.get(activity_regularizer)\n",
    "        self.kernel_constraint = keras.constraints.get(kernel_constraint)\n",
    "        self.bias_constraint = keras.constraints.get(bias_constraint)\n",
    "        self.input_spec = keras.layers.InputSpec(min_ndim=2)\n",
    "        self.supports_masking = True\n",
    "\n",
    "    def build(self, input_shape):\n",
    "        assert len(input_shape) >= 2\n",
    "        input_dim = input_shape[-1]\n",
    "\n",
    "        if self.tied_to is not None:\n",
    "            self.kernel = K.transpose(self.tied_to.kernel)\n",
    "            self._non_trainable_weights.append(self.kernel)\n",
    "        else:\n",
    "            self.kernel = self.add_weight(shape=(input_dim, self.units),\n",
    "                                          initializer=self.kernel_initializer,\n",
    "                                          name='kernel',\n",
    "                                          regularizer=self.kernel_regularizer,\n",
    "                                          constraint=self.kernel_constraint)\n",
    "        if self.use_bias:\n",
    "            self.bias = self.add_weight(shape=(self.units,),\n",
    "                                        initializer=self.bias_initializer,\n",
    "                                        name='bias',\n",
    "                                        regularizer=self.bias_regularizer,\n",
    "                                        constraint=self.bias_constraint)\n",
    "        else:\n",
    "            self.bias = None\n",
    "        self.input_spec = keras.layers.InputSpec(min_ndim=2, axes={-1: input_dim})\n",
    "        self.built = True\n",
    "\n",
    "    def compute_output_shape(self, input_shape):\n",
    "        assert input_shape and len(input_shape) >= 2\n",
    "        output_shape = list(input_shape)\n",
    "        output_shape[-1] = self.units\n",
    "        return tuple(output_shape)\n",
    "\n",
    "    def call(self, inputs, **kwargs):\n",
    "        output = K.dot(inputs, self.kernel)\n",
    "        if self.use_bias:\n",
    "            output = K.bias_add(output, self.bias, data_format='channels_last')\n",
    "        if self.activation is not None:\n",
    "            output = self.activation(output)\n",
    "        return output"
   ]
  },
  {
   "cell_type": "code",
   "execution_count": 89,
   "metadata": {},
   "outputs": [],
   "source": [
    "from keras.layers import Dense, Input\n",
    "from keras.models import Model\n",
    "import keras\n",
    "import numpy as np\n",
    "import gc"
   ]
  },
  {
   "cell_type": "markdown",
   "metadata": {},
   "source": [
    "Encoder"
   ]
  },
  {
   "cell_type": "code",
   "execution_count": 90,
   "metadata": {},
   "outputs": [
    {
     "name": "stdout",
     "output_type": "stream",
     "text": [
      "Model: \"encoder\"\n",
      "_________________________________________________________________\n",
      "Layer (type)                 Output Shape              Param #   \n",
      "=================================================================\n",
      "input_7 (InputLayer)         (None, 773)               0         \n",
      "_________________________________________________________________\n",
      "dense_9 (Dense)              (None, 600)               464400    \n",
      "_________________________________________________________________\n",
      "dense_10 (Dense)             (None, 400)               240400    \n",
      "_________________________________________________________________\n",
      "dense_11 (Dense)             (None, 200)               80200     \n",
      "_________________________________________________________________\n",
      "dense_12 (Dense)             (None, 100)               20100     \n",
      "=================================================================\n",
      "Total params: 805,100\n",
      "Trainable params: 805,100\n",
      "Non-trainable params: 0\n",
      "_________________________________________________________________\n"
     ]
    }
   ],
   "source": [
    "input_layer = Input(shape=(773,))\n",
    "hidden_1 = Dense(600, activation='relu')(input_layer)\n",
    "hidden_2 = Dense(400, activation='relu')(hidden_1)\n",
    "hidden_3 = Dense(200, activation='relu')(hidden_2)\n",
    "code = Dense(100, activation='relu')(hidden_3)\n",
    "\n",
    "encoder = Model(input_layer, code, name='encoder')\n",
    "encoder.summary()"
   ]
  },
  {
   "cell_type": "code",
   "execution_count": 91,
   "metadata": {},
   "outputs": [],
   "source": [
    "from keras import backend as K"
   ]
  },
  {
   "cell_type": "markdown",
   "metadata": {},
   "source": [
    "Decoder"
   ]
  },
  {
   "cell_type": "code",
   "execution_count": 92,
   "metadata": {},
   "outputs": [
    {
     "name": "stdout",
     "output_type": "stream",
     "text": [
      "Model: \"decoder\"\n",
      "_________________________________________________________________\n",
      "Layer (type)                 Output Shape              Param #   \n",
      "=================================================================\n",
      "input_8 (InputLayer)         (None, 100)               0         \n",
      "_________________________________________________________________\n",
      "dense_tied_5 (DenseTied)     (None, 200)               40300     \n",
      "_________________________________________________________________\n",
      "dense_tied_6 (DenseTied)     (None, 400)               160600    \n",
      "_________________________________________________________________\n",
      "dense_tied_7 (DenseTied)     (None, 600)               481000    \n",
      "_________________________________________________________________\n",
      "dense_tied_8 (DenseTied)     (None, 773)               928973    \n",
      "=================================================================\n",
      "Total params: 1,610,873\n",
      "Trainable params: 807,073\n",
      "Non-trainable params: 803,800\n",
      "_________________________________________________________________\n"
     ]
    }
   ],
   "source": [
    "code_input = Input(shape=(100,))\n",
    "hidden_1 = DenseTied(200, activation='relu', tied_to=encoder.layers[4])(code_input)\n",
    "hidden_2 = DenseTied(400, activation='relu', tied_to=encoder.layers[3])(hidden_1)\n",
    "hidden_3 = DenseTied(600, activation='relu', tied_to=encoder.layers[2])(hidden_2)\n",
    "output_layer = DenseTied(773, activation='sigmoid', tied_to=encoder.layers[1])(hidden_3)\n",
    "\n",
    "decoder = Model(code_input, output_layer, name='decoder')\n",
    "decoder.summary()"
   ]
  },
  {
   "cell_type": "markdown",
   "metadata": {},
   "source": [
    "Combine"
   ]
  },
  {
   "cell_type": "code",
   "execution_count": 93,
   "metadata": {},
   "outputs": [
    {
     "name": "stdout",
     "output_type": "stream",
     "text": [
      "Model: \"autoencoder\"\n",
      "_________________________________________________________________\n",
      "Layer (type)                 Output Shape              Param #   \n",
      "=================================================================\n",
      "input_9 (InputLayer)         (None, 773)               0         \n",
      "_________________________________________________________________\n",
      "encoder (Model)              (None, 100)               805100    \n",
      "_________________________________________________________________\n",
      "decoder (Model)              (None, 773)               1610873   \n",
      "=================================================================\n",
      "Total params: 1,610,873\n",
      "Trainable params: 807,073\n",
      "Non-trainable params: 803,800\n",
      "_________________________________________________________________\n"
     ]
    }
   ],
   "source": [
    "input_layer = Input(shape=(773,))\n",
    "#         if load:\n",
    "#             self.encoder = keras.models.load_model('./Pos2Vec/encoder_v1/encoder_epoch66')\n",
    "        #else:\n",
    "\n",
    "ec_out = encoder(input_layer)\n",
    "dc_out = decoder(ec_out)\n",
    "\n",
    "autoencoder = Model(input_layer, dc_out, name='autoencoder')\n",
    "model = autoencoder\n",
    "model.summary()"
   ]
  },
  {
   "cell_type": "code",
   "execution_count": 94,
   "metadata": {},
   "outputs": [],
   "source": [
    "from keras import losses\n",
    "from tensorflow.keras import optimizers"
   ]
  },
  {
   "cell_type": "markdown",
   "metadata": {},
   "source": [
    "Define learning rate scheduler"
   ]
  },
  {
   "cell_type": "code",
   "execution_count": 95,
   "metadata": {},
   "outputs": [],
   "source": [
    "lr_schedule = optimizers.schedules.ExponentialDecay(\n",
    "    initial_learning_rate=0.005,\n",
    "    decay_steps=200,\n",
    "    decay_rate=0.98)\n",
    "opt = optimizers.SGD(learning_rate=lr_schedule)"
   ]
  },
  {
   "cell_type": "markdown",
   "metadata": {},
   "source": [
    "Define loss and compile model"
   ]
  },
  {
   "cell_type": "code",
   "execution_count": 96,
   "metadata": {},
   "outputs": [],
   "source": [
    "model.compile(optimizer=opt, loss='binary_crossentropy')"
   ]
  },
  {
   "cell_type": "code",
   "execution_count": null,
   "metadata": {},
   "outputs": [],
   "source": [
    "positions_val = np.concatenate((bits_white_val,bits_black_val))"
   ]
  },
  {
   "cell_type": "code",
   "execution_count": null,
   "metadata": {},
   "outputs": [],
   "source": [
    "# for i in range(0,200):\n",
    "#     print(i)\n",
    "#     l1 = np.random.randint(low=0,high=len(bits_white_train)-1,size=100000)\n",
    "#     p1 = bits_white_train[l1,:]\n",
    "    \n",
    "#     l2 = np.random.randint(low=0,high=len(bits_black_train)-1,size=100000)\n",
    "#     p2 = bits_black_train[l2,:]\n",
    "    \n",
    "#     print('concatenating...')\n",
    "#     train = np.concatenate((p1,p2))\n",
    "    \n",
    "#     model.fit(train,train, validation_data=(positions_val, positions_val), epochs = 1, batch_size=256)\n",
    "    \n",
    "#     #encoder.save(f'encoder_epoch_{i}') #save at certain points if desired\n",
    "    \n",
    "#     gc.collect()\n",
    "    \n"
   ]
  },
  {
   "cell_type": "code",
   "execution_count": null,
   "metadata": {},
   "outputs": [],
   "source": [
    "l1 = np.random.randint(low=0,high=len(bits_white_train)-1,size=1000000)\n",
    "p1 = bits_white_train[l1,:]"
   ]
  },
  {
   "cell_type": "code",
   "execution_count": null,
   "metadata": {},
   "outputs": [],
   "source": [
    "l2 = np.random.randint(low=0,high=len(bits_black_train)-1,size=1000000)\n",
    "p2 = bits_black_train[l2,:]"
   ]
  },
  {
   "cell_type": "code",
   "execution_count": null,
   "metadata": {},
   "outputs": [],
   "source": [
    "# positions = np.concatenate(bits_white_train,bits_black_train)\n",
    "# positions_val = np.concatenate(bits_white_val,bits_black_val)"
   ]
  },
  {
   "cell_type": "code",
   "execution_count": null,
   "metadata": {},
   "outputs": [],
   "source": [
    "train = np.concatenate((p1,p2))"
   ]
  },
  {
   "cell_type": "markdown",
   "metadata": {},
   "source": [
    "This will take some time..."
   ]
  },
  {
   "cell_type": "code",
   "execution_count": null,
   "metadata": {},
   "outputs": [],
   "source": [
    "model.fit(train,train, validation_data=(positions_val, positions_val), epochs = 200, batch_size=256)"
   ]
  },
  {
   "cell_type": "code",
   "execution_count": null,
   "metadata": {},
   "outputs": [],
   "source": [
    "# encoder.save('./encoder_epoch' + str(71))\n",
    "# decoder.save('./decoder_epoch' + str(71))\n",
    "# model.save('./autoencoder_epoch' + str(71))\n"
   ]
  },
  {
   "cell_type": "markdown",
   "metadata": {},
   "source": [
    "Load the encoder and set up siamese configuration"
   ]
  },
  {
   "cell_type": "code",
   "execution_count": 97,
   "metadata": {},
   "outputs": [],
   "source": [
    "enc = models.load_model('encoder_epoch_45')\n",
    "lr_schedule = optimizers.schedules.ExponentialDecay(\n",
    "    initial_learning_rate=0.005,\n",
    "    decay_steps=200,\n",
    "    decay_rate=0.98)\n",
    "opt = optimizers.SGD(learning_rate=lr_schedule)\n",
    "enc.compile(optimizer=opt,loss='binary_crossentropy')"
   ]
  },
  {
   "cell_type": "code",
   "execution_count": 98,
   "metadata": {},
   "outputs": [],
   "source": [
    "input_shape = [773]\n",
    "inputt = Input(input_shape)\n",
    "left_input = Input(input_shape)\n",
    "right_input = Input(input_shape)"
   ]
  },
  {
   "cell_type": "code",
   "execution_count": 99,
   "metadata": {},
   "outputs": [],
   "source": [
    "encoded_left = enc(left_input)\n",
    "encoded_right = enc(right_input)"
   ]
  },
  {
   "cell_type": "code",
   "execution_count": 100,
   "metadata": {},
   "outputs": [],
   "source": [
    "combo = layers.concatenate([encoded_left, encoded_right])"
   ]
  },
  {
   "cell_type": "code",
   "execution_count": 101,
   "metadata": {},
   "outputs": [],
   "source": [
    "distillation = layers.Dense(400)(combo)\n",
    "distillation = layers.Dense(200)(distillation)\n",
    "distillation = layers.Dense(100)(distillation)"
   ]
  },
  {
   "cell_type": "code",
   "execution_count": 102,
   "metadata": {},
   "outputs": [],
   "source": [
    "outputs = layers.Dense(2, activation = 'softmax')(distillation)"
   ]
  },
  {
   "cell_type": "code",
   "execution_count": 103,
   "metadata": {},
   "outputs": [],
   "source": [
    "model = Model(inputs=[left_input,right_input], outputs=outputs, name='deep_chess')"
   ]
  },
  {
   "cell_type": "code",
   "execution_count": 104,
   "metadata": {},
   "outputs": [
    {
     "name": "stdout",
     "output_type": "stream",
     "text": [
      "Model: \"deep_chess\"\n",
      "__________________________________________________________________________________________________\n",
      "Layer (type)                    Output Shape         Param #     Connected to                     \n",
      "==================================================================================================\n",
      "input_11 (InputLayer)           (None, 773)          0                                            \n",
      "__________________________________________________________________________________________________\n",
      "input_12 (InputLayer)           (None, 773)          0                                            \n",
      "__________________________________________________________________________________________________\n",
      "encoder (Model)                 (None, 100)          805100      input_11[0][0]                   \n",
      "                                                                 input_12[0][0]                   \n",
      "__________________________________________________________________________________________________\n",
      "concatenate_2 (Concatenate)     (None, 200)          0           encoder[1][0]                    \n",
      "                                                                 encoder[2][0]                    \n",
      "__________________________________________________________________________________________________\n",
      "dense_13 (Dense)                (None, 400)          80400       concatenate_2[0][0]              \n",
      "__________________________________________________________________________________________________\n",
      "dense_14 (Dense)                (None, 200)          80200       dense_13[0][0]                   \n",
      "__________________________________________________________________________________________________\n",
      "dense_15 (Dense)                (None, 100)          20100       dense_14[0][0]                   \n",
      "__________________________________________________________________________________________________\n",
      "dense_16 (Dense)                (None, 2)            202         dense_15[0][0]                   \n",
      "==================================================================================================\n",
      "Total params: 986,002\n",
      "Trainable params: 986,002\n",
      "Non-trainable params: 0\n",
      "__________________________________________________________________________________________________\n"
     ]
    }
   ],
   "source": [
    "model.summary()"
   ]
  },
  {
   "cell_type": "code",
   "execution_count": 105,
   "metadata": {},
   "outputs": [
    {
     "data": {
      "image/png": "[encoded data removed]",
      "text/plain": [
       "<IPython.core.display.Image object>"
      ]
     },
     "execution_count": 105,
     "metadata": {},
     "output_type": "execute_result"
    }
   ],
   "source": [
    "utils.plot_model(model)"
   ]
  },
  {
   "cell_type": "code",
   "execution_count": 106,
   "metadata": {},
   "outputs": [],
   "source": [
    "from keras import losses\n",
    "from keras import optimizers"
   ]
  },
  {
   "cell_type": "code",
   "execution_count": 107,
   "metadata": {},
   "outputs": [],
   "source": [
    "from tensorflow.keras import optimizers"
   ]
  },
  {
   "cell_type": "code",
   "execution_count": 108,
   "metadata": {},
   "outputs": [],
   "source": [
    "lr_schedule = optimizers.schedules.ExponentialDecay(\n",
    "    initial_learning_rate=0.01,\n",
    "    decay_steps=1000,\n",
    "    decay_rate=0.99)\n",
    "opt = optimizers.SGD(learning_rate=lr_schedule)"
   ]
  },
  {
   "cell_type": "code",
   "execution_count": 117,
   "metadata": {},
   "outputs": [],
   "source": [
    "model.compile(optimizer=opt, loss='binary_crossentropy',metrics=['accuracy'])"
   ]
  },
  {
   "cell_type": "code",
   "execution_count": 110,
   "metadata": {},
   "outputs": [],
   "source": [
    "batch_size = 1000"
   ]
  },
  {
   "cell_type": "code",
   "execution_count": 111,
   "metadata": {},
   "outputs": [],
   "source": [
    "import keras.callbacks as cb"
   ]
  },
  {
   "cell_type": "code",
   "execution_count": 112,
   "metadata": {},
   "outputs": [],
   "source": [
    "callbacks = [\n",
    "    # This callback saves a SavedModel every 100 batches.\n",
    "    # We include the training loss in the folder name.\n",
    "    cb.ModelCheckpoint(\n",
    "        filepath='./model_with_ae_epoch_{epoch:02d}')]\n"
   ]
  },
  {
   "cell_type": "code",
   "execution_count": null,
   "metadata": {},
   "outputs": [],
   "source": [
    "model.fit(generator(bits_white_train, bits_black_train, batch_size), epochs=1000,initial_epoch=396,steps_per_epoch=1000,callbacks=callbacks)\n"
   ]
  },
  {
   "cell_type": "code",
   "execution_count": null,
   "metadata": {},
   "outputs": [],
   "source": [
    "#model.save('new_latest_e_397_acc_869')"
   ]
  },
  {
   "cell_type": "code",
   "execution_count": null,
   "metadata": {},
   "outputs": [],
   "source": [
    "from keras import models"
   ]
  },
  {
   "cell_type": "code",
   "execution_count": 113,
   "metadata": {},
   "outputs": [
    {
     "name": "stderr",
     "output_type": "stream",
     "text": [
      "/opt/anaconda3/lib/python3.7/site-packages/keras/engine/saving.py:341: UserWarning: No training configuration found in save file: the model was *not* compiled. Compile it manually.\n",
      "  warnings.warn('No training configuration found in save file: '\n"
     ]
    }
   ],
   "source": [
    "model = models.load_model('model_with_ae_epoch_396')"
   ]
  },
  {
   "cell_type": "code",
   "execution_count": 118,
   "metadata": {},
   "outputs": [],
   "source": [
    "lr_schedule = optimizers.schedules.ExponentialDecay(\n",
    "    initial_learning_rate=0.01,\n",
    "    decay_steps=1000,\n",
    "    decay_rate=0.99)\n",
    "opt = optimizers.SGD(learning_rate=lr_schedule)"
   ]
  },
  {
   "cell_type": "code",
   "execution_count": 119,
   "metadata": {},
   "outputs": [],
   "source": [
    "model.compile(optimizer=opt, loss='binary_crossentropy',metrics=['accuracy'])"
   ]
  },
  {
   "cell_type": "markdown",
   "metadata": {},
   "source": [
    "Evaluate on validation set"
   ]
  },
  {
   "cell_type": "code",
   "execution_count": 120,
   "metadata": {},
   "outputs": [],
   "source": [
    "y_val1 = np.zeros((len(bits_black_val),2))\n",
    "for i in range(0,len(bits_black_val)):\n",
    "    random_order = random.choice([0,1])\n",
    "    y_val1[i,:] = [1,0]"
   ]
  },
  {
   "cell_type": "code",
   "execution_count": 121,
   "metadata": {},
   "outputs": [],
   "source": [
    "y_val2 = np.zeros((len(bits_black_val),2))\n",
    "for i in range(0,len(bits_black_val)):\n",
    "    random_order = random.choice([0,1])\n",
    "    y_val2[i,:] = [0,1]"
   ]
  },
  {
   "cell_type": "code",
   "execution_count": 122,
   "metadata": {},
   "outputs": [
    {
     "name": "stdout",
     "output_type": "stream",
     "text": [
      "100000/100000 [==============================] - 19s 194us/step\n",
      "\n",
      "Testing loss: 0.316986257455349, acc: 0.8476700186729431\n",
      "\n"
     ]
    }
   ],
   "source": [
    "loss, acc = model.evaluate([bits_black_val, bits_white_val], y_val2)\n",
    "print('\\nTesting loss: {}, acc: {}\\n'.format(loss, acc))"
   ]
  },
  {
   "cell_type": "markdown",
   "metadata": {},
   "source": [
    "The best model I've achieved so far has around 0.85 accuracy in identifying winning positions"
   ]
  },
  {
   "cell_type": "markdown",
   "metadata": {},
   "source": [
    "These are a few test cases for the model. One where white is up a piece or opening positions e.g."
   ]
  },
  {
   "cell_type": "code",
   "execution_count": 123,
   "metadata": {},
   "outputs": [],
   "source": [
    "white_up_piece = fen_to_bit('rnbqk1nr/ppp2ppp/8/3P4/3P4/N3BN2/PPP2PPP/R2QKB1R b KQkq - 0 6')\n",
    "normal = fen_to_bit('r1bq1rk1/ppp1bppp/2np1n2/1B2p3/4P3/2PP1N2/PP3PPP/RNBQ1RK1 w - - 1 7')"
   ]
  },
  {
   "cell_type": "code",
   "execution_count": 124,
   "metadata": {},
   "outputs": [
    {
     "data": {
      "text/plain": [
       "array([[0.41942507, 0.580575  ]], dtype=float32)"
      ]
     },
     "execution_count": 124,
     "metadata": {},
     "output_type": "execute_result"
    }
   ],
   "source": [
    "model.predict([normal.reshape(1,-1),white_up_piece.reshape(1,-1)])"
   ]
  },
  {
   "cell_type": "code",
   "execution_count": 125,
   "metadata": {},
   "outputs": [
    {
     "data": {
      "text/plain": [
       "array([[0.5804533 , 0.41954672]], dtype=float32)"
      ]
     },
     "execution_count": 125,
     "metadata": {},
     "output_type": "execute_result"
    }
   ],
   "source": [
    "model.predict([white_up_piece.reshape(1,-1),normal.reshape(1,-1)])"
   ]
  },
  {
   "cell_type": "markdown",
   "metadata": {},
   "source": [
    "My model correctly evaluates that white is more likely to win in a piece-up position."
   ]
  },
  {
   "cell_type": "code",
   "execution_count": 126,
   "metadata": {},
   "outputs": [],
   "source": [
    "e4 = fen_to_bit('rnbqkbnr/pppppppp/8/8/4P3/8/PPPP1PPP/RNBQKBNR b KQkq - 0 1')\n",
    "a4 = fen_to_bit('rnbqkbnr/pppppppp/8/8/P7/8/1PPPPPPP/RNBQKBNR b KQkq - 0 1')"
   ]
  },
  {
   "cell_type": "code",
   "execution_count": 127,
   "metadata": {},
   "outputs": [
    {
     "data": {
      "text/plain": [
       "array([[0.55942124, 0.4405788 ]], dtype=float32)"
      ]
     },
     "execution_count": 127,
     "metadata": {},
     "output_type": "execute_result"
    }
   ],
   "source": [
    "model.predict([e4.reshape(1,-1),a4.reshape(1,-1)])"
   ]
  },
  {
   "cell_type": "code",
   "execution_count": 128,
   "metadata": {},
   "outputs": [
    {
     "data": {
      "text/plain": [
       "array([[0.43890917, 0.5610909 ]], dtype=float32)"
      ]
     },
     "execution_count": 128,
     "metadata": {},
     "output_type": "execute_result"
    }
   ],
   "source": [
    "model.predict([a4.reshape(1,-1),e4.reshape(1,-1)])"
   ]
  },
  {
   "cell_type": "markdown",
   "metadata": {},
   "source": [
    "My model prefers e4 over a4 as an opening move"
   ]
  },
  {
   "cell_type": "code",
   "execution_count": 129,
   "metadata": {},
   "outputs": [],
   "source": [
    "black_gives_up_pawn = fen_to_bit('rnbqkbnr/1ppp1ppp/8/p3p3/4P3/5N2/PPPP1PPP/RNBQKB1R w KQkq - 0 3')\n",
    "black_protects_pawn = fen_to_bit('r1bqkbnr/pppp1ppp/2n5/4p3/4P3/5N2/PPPP1PPP/RNBQKB1R w KQkq - 2 3')"
   ]
  },
  {
   "cell_type": "code",
   "execution_count": 130,
   "metadata": {},
   "outputs": [
    {
     "data": {
      "text/plain": [
       "array([[0.49440438, 0.5055956 ]], dtype=float32)"
      ]
     },
     "execution_count": 130,
     "metadata": {},
     "output_type": "execute_result"
    }
   ],
   "source": [
    "model.predict([black_protects_pawn.reshape(1,-1),black_gives_up_pawn.reshape(1,-1)])"
   ]
  },
  {
   "cell_type": "code",
   "execution_count": 131,
   "metadata": {},
   "outputs": [
    {
     "data": {
      "text/plain": [
       "array([[0.50330025, 0.49669978]], dtype=float32)"
      ]
     },
     "execution_count": 131,
     "metadata": {},
     "output_type": "execute_result"
    }
   ],
   "source": [
    "model.predict([black_gives_up_pawn.reshape(1,-1),black_protects_pawn.reshape(1,-1)])"
   ]
  },
  {
   "cell_type": "markdown",
   "metadata": {},
   "source": [
    "My model evaluates these about evenly."
   ]
  },
  {
   "cell_type": "markdown",
   "metadata": {},
   "source": [
    "This sets up the minimax algorithm for playing a game. It uses crushing positions as \"best/worst case\" scenarios for comparison when necessary."
   ]
  },
  {
   "cell_type": "code",
   "execution_count": 140,
   "metadata": {},
   "outputs": [],
   "source": [
    "white_crushing = chess.Board('4k3/8/8/PPPPPPPP/1RBQNB2/2NKR3/8/8 b - - 20 45')\n",
    "black_crushing = chess.Board('8/3bk3/1rnbqnr1/pppppppp/8/8/4K3/8 w - - 18 37')\n",
    "def minimax(position, depth, alpha, beta, maximizing_player):\n",
    "    if depth == 0:\n",
    "        return position \n",
    "    else:\n",
    "        if maximizing_player:\n",
    "            if alpha == None:\n",
    "                alpha = black_crushing\n",
    "            first = True\n",
    "            for move in chess.LegalMoveGenerator(position):\n",
    "                #print(f'white depth: {depth}, move: {move}')\n",
    "                position_copy = copy.copy(position)\n",
    "                position_copy.push_uci(move.uci())\n",
    "                \n",
    "#                 if first:\n",
    "#                     alpha = minimax(position_copy, depth-1, alpha, beta, False)\n",
    "#                     first = False\n",
    "#                 else:\n",
    "                next_position = minimax(position_copy, depth-1, alpha, beta, False)\n",
    "                #print('\\nevaluating this:\\n',next_position.unicode(),'\\nvs this:\\n',alpha.unicode())\n",
    "                #print(f'\\naka this: {next_position.fen()}\\n')\n",
    "                #print(f'\\nvs this: {alpha.fen()}')\n",
    "                result = evaluate_pair(next_position, alpha, is_fen=False)[0][0]\n",
    "                if result > .5:\n",
    "                    alpha = next_position\n",
    "                    #print('\\nnew alpha:\\n')\n",
    "                    #print(alpha.unicode())\n",
    "#                     if beta:\n",
    "#                         if evaluate_pair(next_position.fen(), beta.fen(), is_fen=True)[0][0] > .5:\n",
    "#                             print(f'new position is better than beta. Pruning...\\n')\n",
    "#                             break\n",
    "            return alpha\n",
    "        else:\n",
    "            if beta == None:\n",
    "                beta = white_crushing\n",
    "            first = True\n",
    "            for move in chess.LegalMoveGenerator(position):\n",
    "                #print(f'black depth: {depth}, move: {move}')\n",
    "                position_copy = copy.copy(position)\n",
    "                position_copy.push_uci(move.uci())\n",
    "                \n",
    "#                 if first:\n",
    "#                     beta = minimax(position_copy, depth-1, alpha, beta, True)\n",
    "#                     first = False\n",
    "                #else:\n",
    "                next_position = minimax(position_copy, depth-1, alpha, beta, True)\n",
    "                #print('\\nevaluating this:\\n',next_position.unicode(),'\\nvs this:\\n',beta.unicode())\n",
    "                #print(f'\\naka this: {next_position.fen()}\\n')\n",
    "                #print(f'\\nvs this: {beta.fen()}')\n",
    "                result = evaluate_pair(next_position, beta, is_fen=False)[0][0]\n",
    "                if result < .5:\n",
    "                    beta = next_position\n",
    "                    #print('\\nnew beta:\\n')\n",
    "                    #print(beta.unicode())\n",
    "#                    if alpha:\n",
    "#                         if evaluate_pair(next_position.fen(), alpha.fen(), is_fen=True)[0][0] < .5:\n",
    "#                             print(f'new position is worse than alpha. Pruning...\\n')\n",
    "#                             break\n",
    "            return beta\n",
    "        \n",
    "                    \n",
    "                    \n",
    "            "
   ]
  },
  {
   "cell_type": "markdown",
   "metadata": {},
   "source": [
    "Here defining the play function"
   ]
  },
  {
   "cell_type": "code",
   "execution_count": 141,
   "metadata": {},
   "outputs": [],
   "source": [
    "def play():\n",
    "    print('Do you want to play as white or black?\\n')\n",
    "    player = input()\n",
    "    if player not in ['white','black']:\n",
    "        print('\\ntype white or black')\n",
    "    print('Enter desired bot depth:\\n')\n",
    "    depth = int(input())\n",
    "        \n",
    "    if player == 'white':\n",
    "        board = chess.Board()\n",
    "        move_count = 0\n",
    "        ongoing = True\n",
    "        while ongoing == True:\n",
    "            #player move\n",
    "            p_move = get_player_move(board)\n",
    "            board.push_san(p_move)\n",
    "            \n",
    "            c_move = get_computer_move(board,depth,is_white=False)\n",
    "            \n",
    "            board.push_uci(c_move.uci())\n",
    "            \n",
    "            print(board.unicode())\n",
    "            \n",
    "            if board.is_game_over == True:\n",
    "                print('game over')\n",
    "                ongoing=False\n",
    "                \n",
    "    if player == 'black':\n",
    "        board = chess.Board()\n",
    "        move_count = 0\n",
    "        ongoing = True\n",
    "        while ongoing == True:\n",
    "            \n",
    "            #comp move\n",
    "            c_move = get_computer_move(board,depth,is_white=True)\n",
    "            \n",
    "            board.push_uci(c_move.uci())\n",
    "            \n",
    "            print(board.unicode())\n",
    "            \n",
    "            #player move\n",
    "            p_move = get_player_move(board)\n",
    "            board.push_san(p_move)\n",
    "            \n",
    "            if board.is_game_over == True:\n",
    "                print('game over')\n",
    "                ongoing=False\n",
    "            \n",
    "            \n",
    "            \n",
    "        "
   ]
  },
  {
   "cell_type": "markdown",
   "metadata": {},
   "source": [
    "Depth of 3 is pretty slow, so I assume I don't have a well optimized algorithm or my model needs to be simplified to be practically useful."
   ]
  },
  {
   "cell_type": "markdown",
   "metadata": {},
   "source": [
    "My model tends to advance pawns recklessly and likes the sicilian vs e4"
   ]
  },
  {
   "cell_type": "code",
   "execution_count": 143,
   "metadata": {},
   "outputs": [
    {
     "name": "stdout",
     "output_type": "stream",
     "text": [
      "Do you want to play as white or black?\n",
      "\n",
      "white\n",
      "Enter desired bot depth:\n",
      "\n",
      "2\n",
      "Enter your move: \n",
      "\n",
      "e4\n",
      "♜ ♞ ♝ ♛ ♚ ♝ ♞ ♜\n",
      "♟ ♟ · ♟ ♟ ♟ ♟ ♟\n",
      "· · · · · · · ·\n",
      "· · ♟ · · · · ·\n",
      "· · · · ♙ · · ·\n",
      "· · · · · · · ·\n",
      "♙ ♙ ♙ ♙ · ♙ ♙ ♙\n",
      "♖ ♘ ♗ ♕ ♔ ♗ ♘ ♖\n",
      "Enter your move: \n",
      "\n",
      "Bc4\n",
      "♜ ♞ ♝ ♛ ♚ ♝ ♞ ♜\n",
      "♟ ♟ · · ♟ ♟ ♟ ♟\n",
      "· · · · · · · ·\n",
      "· · ♟ ♟ · · · ·\n",
      "· · ♗ · ♙ · · ·\n",
      "· · · · · · · ·\n",
      "♙ ♙ ♙ ♙ · ♙ ♙ ♙\n",
      "♖ ♘ ♗ ♕ ♔ · ♘ ♖\n",
      "Enter your move: \n",
      "\n",
      "Bxd4\n",
      "Illegal move, please try again\n",
      "Enter your move: \n",
      "\n",
      "Bxd5\n",
      "♜ ♞ · ♛ ♚ ♝ ♞ ♜\n",
      "♟ ♟ · · ♟ ♟ ♟ ♟\n",
      "· · · · · · · ·\n",
      "· · ♟ ♗ · · · ·\n",
      "· · · · ♙ · ♝ ·\n",
      "· · · · · · · ·\n",
      "♙ ♙ ♙ ♙ · ♙ ♙ ♙\n",
      "♖ ♘ ♗ ♕ ♔ · ♘ ♖\n",
      "Enter your move: \n",
      "\n",
      "Qxf4\n",
      "Illegal move, please try again\n",
      "Enter your move: \n",
      "\n",
      "Qxg4\n",
      "♜ ♞ · ♛ ♚ ♝ · ♜\n",
      "♟ ♟ · · ♟ ♟ ♟ ♟\n",
      "· · · · · ♞ · ·\n",
      "· · ♟ ♗ · · · ·\n",
      "· · · · ♙ · ♕ ·\n",
      "· · · · · · · ·\n",
      "♙ ♙ ♙ ♙ · ♙ ♙ ♙\n",
      "♖ ♘ ♗ · ♔ · ♘ ♖\n",
      "Enter your move: \n",
      "\n",
      "Qf3\n",
      "♜ ♞ · ♛ ♚ ♝ · ♜\n",
      "♟ ♟ · · ♟ ♟ ♟ ♟\n",
      "· · · · · · · ·\n",
      "· · ♟ ♞ · · · ·\n",
      "· · · · ♙ · · ·\n",
      "· · · · · ♕ · ·\n",
      "♙ ♙ ♙ ♙ · ♙ ♙ ♙\n",
      "♖ ♘ ♗ · ♔ · ♘ ♖\n",
      "Enter your move: \n",
      "\n",
      "exd5\n",
      "♜ ♞ · ♛ ♚ ♝ · ♜\n",
      "♟ ♟ · · · ♟ ♟ ♟\n",
      "· · · · ♟ · · ·\n",
      "· · ♟ ♙ · · · ·\n",
      "· · · · · · · ·\n",
      "· · · · · ♕ · ·\n",
      "♙ ♙ ♙ ♙ · ♙ ♙ ♙\n",
      "♖ ♘ ♗ · ♔ · ♘ ♖\n",
      "Enter your move: \n",
      "\n",
      "dxe6\n",
      "♜ ♞ · · ♚ ♝ · ♜\n",
      "♟ ♟ · · · ♟ ♟ ♟\n",
      "· · · · ♙ · · ·\n",
      "· · ♟ · · · · ·\n",
      "· · · ♛ · · · ·\n",
      "· · · · · ♕ · ·\n",
      "♙ ♙ ♙ ♙ · ♙ ♙ ♙\n",
      "♖ ♘ ♗ · ♔ · ♘ ♖\n",
      "Enter your move: \n",
      "\n",
      "Qxf7\n",
      "♜ ♞ · ♚ · ♝ · ♜\n",
      "♟ ♟ · · · ♕ ♟ ♟\n",
      "· · · · ♙ · · ·\n",
      "· · ♟ · · · · ·\n",
      "· · · ♛ · · · ·\n",
      "· · · · · · · ·\n",
      "♙ ♙ ♙ ♙ · ♙ ♙ ♙\n",
      "♖ ♘ ♗ · ♔ · ♘ ♖\n",
      "Enter your move: \n",
      "\n",
      "Nf3\n",
      "♜ ♞ · ♚ · ♝ · ♜\n",
      "♟ ♟ · · · ♕ ♟ ♟\n",
      "· · · · ♙ · · ·\n",
      "· · ♟ · · · · ·\n",
      "· · · · ♛ · · ·\n",
      "· · · · · ♘ · ·\n",
      "♙ ♙ ♙ ♙ · ♙ ♙ ♙\n",
      "♖ ♘ ♗ · ♔ · · ♖\n",
      "Enter your move: \n",
      "\n",
      "Kf1\n",
      "♜ · · ♚ · ♝ · ♜\n",
      "♟ ♟ · · · ♕ ♟ ♟\n",
      "· · ♞ · ♙ · · ·\n",
      "· · ♟ · · · · ·\n",
      "· · · · ♛ · · ·\n",
      "· · · · · ♘ · ·\n",
      "♙ ♙ ♙ ♙ · ♙ ♙ ♙\n",
      "♖ ♘ ♗ · · ♔ · ♖\n",
      "Enter your move: \n",
      "\n",
      "Qd7\n"
     ]
    },
    {
     "ename": "IndexError",
     "evalue": "list index out of range",
     "output_type": "error",
     "traceback": [
      "\u001b[0;31m---------------------------------------------------------------------------\u001b[0m",
      "\u001b[0;31mIndexError\u001b[0m                                Traceback (most recent call last)",
      "\u001b[0;32m<ipython-input-143-425fd712de3c>\u001b[0m in \u001b[0;36m<module>\u001b[0;34m\u001b[0m\n\u001b[0;32m----> 1\u001b[0;31m \u001b[0mplay\u001b[0m\u001b[0;34m(\u001b[0m\u001b[0;34m)\u001b[0m\u001b[0;34m\u001b[0m\u001b[0;34m\u001b[0m\u001b[0m\n\u001b[0m",
      "\u001b[0;32m<ipython-input-141-588034fa25c1>\u001b[0m in \u001b[0;36mplay\u001b[0;34m()\u001b[0m\n\u001b[1;32m     16\u001b[0m             \u001b[0mboard\u001b[0m\u001b[0;34m.\u001b[0m\u001b[0mpush_san\u001b[0m\u001b[0;34m(\u001b[0m\u001b[0mp_move\u001b[0m\u001b[0;34m)\u001b[0m\u001b[0;34m\u001b[0m\u001b[0;34m\u001b[0m\u001b[0m\n\u001b[1;32m     17\u001b[0m \u001b[0;34m\u001b[0m\u001b[0m\n\u001b[0;32m---> 18\u001b[0;31m             \u001b[0mc_move\u001b[0m \u001b[0;34m=\u001b[0m \u001b[0mget_computer_move\u001b[0m\u001b[0;34m(\u001b[0m\u001b[0mboard\u001b[0m\u001b[0;34m,\u001b[0m\u001b[0mdepth\u001b[0m\u001b[0;34m,\u001b[0m\u001b[0mis_white\u001b[0m\u001b[0;34m=\u001b[0m\u001b[0;32mFalse\u001b[0m\u001b[0;34m)\u001b[0m\u001b[0;34m\u001b[0m\u001b[0;34m\u001b[0m\u001b[0m\n\u001b[0m\u001b[1;32m     19\u001b[0m \u001b[0;34m\u001b[0m\u001b[0m\n\u001b[1;32m     20\u001b[0m             \u001b[0mboard\u001b[0m\u001b[0;34m.\u001b[0m\u001b[0mpush_uci\u001b[0m\u001b[0;34m(\u001b[0m\u001b[0mc_move\u001b[0m\u001b[0;34m.\u001b[0m\u001b[0muci\u001b[0m\u001b[0;34m(\u001b[0m\u001b[0;34m)\u001b[0m\u001b[0;34m)\u001b[0m\u001b[0;34m\u001b[0m\u001b[0;34m\u001b[0m\u001b[0m\n",
      "\u001b[0;32m<ipython-input-136-9ca46416ee3f>\u001b[0m in \u001b[0;36mget_computer_move\u001b[0;34m(board, depth, is_white)\u001b[0m\n\u001b[1;32m      6\u001b[0m     \u001b[0mdiff\u001b[0m \u001b[0;34m=\u001b[0m \u001b[0mnew_num_moves\u001b[0m \u001b[0;34m-\u001b[0m \u001b[0moriginal_num_moves\u001b[0m\u001b[0;34m\u001b[0m\u001b[0;34m\u001b[0m\u001b[0m\n\u001b[1;32m      7\u001b[0m \u001b[0;34m\u001b[0m\u001b[0m\n\u001b[0;32m----> 8\u001b[0;31m     \u001b[0mbest_move\u001b[0m \u001b[0;34m=\u001b[0m \u001b[0mbest_position\u001b[0m\u001b[0;34m.\u001b[0m\u001b[0mmove_stack\u001b[0m\u001b[0;34m[\u001b[0m\u001b[0;34m-\u001b[0m\u001b[0;34m(\u001b[0m\u001b[0mdiff\u001b[0m\u001b[0;34m)\u001b[0m\u001b[0;34m]\u001b[0m\u001b[0;34m\u001b[0m\u001b[0;34m\u001b[0m\u001b[0m\n\u001b[0m\u001b[1;32m      9\u001b[0m     \u001b[0;32mreturn\u001b[0m\u001b[0;34m(\u001b[0m\u001b[0mbest_move\u001b[0m\u001b[0;34m)\u001b[0m\u001b[0;34m\u001b[0m\u001b[0;34m\u001b[0m\u001b[0m\n",
      "\u001b[0;31mIndexError\u001b[0m: list index out of range"
     ]
    }
   ],
   "source": [
    "play()"
   ]
  },
  {
   "cell_type": "code",
   "execution_count": null,
   "metadata": {},
   "outputs": [],
   "source": []
  },
  {
   "cell_type": "code",
   "execution_count": null,
   "metadata": {},
   "outputs": [],
   "source": []
  },
  {
   "cell_type": "code",
   "execution_count": null,
   "metadata": {},
   "outputs": [],
   "source": []
  },
  {
   "cell_type": "code",
   "execution_count": null,
   "metadata": {},
   "outputs": [],
   "source": []
  },
  {
   "cell_type": "markdown",
   "metadata": {},
   "source": [
    "Other needed functions"
   ]
  },
  {
   "cell_type": "code",
   "execution_count": 134,
   "metadata": {},
   "outputs": [],
   "source": [
    "def evaluate_pair(pos1,pos2,is_fen):\n",
    "    if is_fen == False:\n",
    "        bits1 = fen_to_bit(pos1.fen()).reshape(1,-1)\n",
    "        bits2 = fen_to_bit(pos2.fen()).reshape(1,-1)\n",
    "    else:\n",
    "        bits1 = fen_to_bit(pos1).reshape(1,-1)\n",
    "        bits2 = fen_to_bit(pos2).reshape(1,-1)\n",
    "    return model.predict([bits1,bits2])"
   ]
  },
  {
   "cell_type": "code",
   "execution_count": 135,
   "metadata": {},
   "outputs": [],
   "source": [
    "def get_player_move(board):\n",
    "    cop = board.copy()\n",
    "    while True:\n",
    "        try:\n",
    "            print(\"Enter your move: \\n\")\n",
    "            move = input()\n",
    "            cop.push_san(move)\n",
    "            break\n",
    "        except ValueError:\n",
    "            print(\"Illegal move, please try again\")\n",
    "\n",
    "    return move"
   ]
  },
  {
   "cell_type": "code",
   "execution_count": 136,
   "metadata": {},
   "outputs": [],
   "source": [
    "def get_computer_move(board,depth,is_white):\n",
    "    best_position = minimax(board, depth=depth, alpha=None, beta=None, maximizing_player=is_white)\n",
    "    \n",
    "    original_num_moves = len(board.move_stack)\n",
    "    new_num_moves = len(best_position.move_stack)\n",
    "    diff = new_num_moves - original_num_moves\n",
    "\n",
    "    best_move = best_position.move_stack[-(diff)]\n",
    "    return(best_move)"
   ]
  },
  {
   "cell_type": "markdown",
   "metadata": {},
   "source": [
    "___"
   ]
  },
  {
   "cell_type": "markdown",
   "metadata": {},
   "source": [
    "Below you'll find old versions of code or examples I was learning from, not particularly structured or nice to look at."
   ]
  },
  {
   "cell_type": "markdown",
   "metadata": {},
   "source": [
    "___"
   ]
  },
  {
   "cell_type": "markdown",
   "metadata": {},
   "source": [
    "___"
   ]
  },
  {
   "cell_type": "markdown",
   "metadata": {},
   "source": [
    "___"
   ]
  },
  {
   "cell_type": "markdown",
   "metadata": {},
   "source": [
    "## Old pre-processing code creates and saves x and y"
   ]
  },
  {
   "cell_type": "code",
   "execution_count": null,
   "metadata": {},
   "outputs": [],
   "source": []
  },
  {
   "cell_type": "code",
   "execution_count": null,
   "metadata": {},
   "outputs": [],
   "source": [
    "print('parsing games')\n",
    "parsed_games = []\n",
    "for num in range(len(m)):\n",
    "    if num%100000 == 0:\n",
    "        print(num)\n",
    "    if num%2 == 1:\n",
    "        unparsed_game = m[num].replace('\\n',' ')\n",
    "        new_game = []\n",
    "        for entry in unparsed_game.split(' '):\n",
    "            if entry[-1]!='.':\n",
    "                new_game.append(entry)\n",
    "        parsed_games.append(new_game)"
   ]
  },
  {
   "cell_type": "code",
   "execution_count": null,
   "metadata": {},
   "outputs": [],
   "source": [
    "games = parsed_games.copy()"
   ]
  },
  {
   "cell_type": "code",
   "execution_count": null,
   "metadata": {},
   "outputs": [],
   "source": [
    "no_draws = []\n",
    "for game in games:\n",
    "    if game[-1] != '1/2-1/2':\n",
    "        no_draws.append(game)"
   ]
  },
  {
   "cell_type": "code",
   "execution_count": null,
   "metadata": {},
   "outputs": [],
   "source": [
    "len(no_draws)"
   ]
  },
  {
   "cell_type": "code",
   "execution_count": null,
   "metadata": {},
   "outputs": [],
   "source": [
    "white_wins = []\n",
    "black_wins = []\n",
    "for game in no_draws:\n",
    "    if len(game) < 10:\n",
    "        print('short game')\n",
    "    if game[-1] == '1-0':\n",
    "        white_wins.append(game[:-1])\n",
    "    if game[-1] == '0-1':\n",
    "        black_wins.append(game[:-1])"
   ]
  },
  {
   "cell_type": "code",
   "execution_count": null,
   "metadata": {},
   "outputs": [],
   "source": [
    "#select 10 random positions per game\n",
    "black_positions = []\n",
    "white_positions = []\n",
    "for game in white_wins:\n",
    "    num=0\n",
    "    #select 10 random positions:\n",
    "    while num <10:\n",
    "        potential_position = game[0:np.random.randint(5,len(game))]\n",
    "        #print(potential_position)\n",
    "        if 'x' in potential_position[-1]:\n",
    "            continue\n",
    "        else:\n",
    "            white_positions.append(potential_position)\n",
    "            #print('good position',potential_position)\n",
    "            num+=1\n",
    "for game in black_wins:\n",
    "    print('black games')\n",
    "    num=0\n",
    "    #select 10 random positions:\n",
    "    while num <10:\n",
    "        potential_position = game[0:np.random.randint(5,len(game))]\n",
    "        #print(potential_position)\n",
    "        if 'x' in potential_position[-1]:\n",
    "            continue\n",
    "        else:\n",
    "            black_positions.append(potential_position)\n",
    "            #print('good position',potential_position)\n",
    "            num+=1\n",
    "        "
   ]
  },
  {
   "cell_type": "code",
   "execution_count": null,
   "metadata": {},
   "outputs": [],
   "source": [
    "print(len(white_wins))\n",
    "len(white_positions)"
   ]
  },
  {
   "cell_type": "code",
   "execution_count": null,
   "metadata": {},
   "outputs": [],
   "source": []
  },
  {
   "cell_type": "code",
   "execution_count": null,
   "metadata": {},
   "outputs": [],
   "source": [
    "board = chess.Board()"
   ]
  },
  {
   "cell_type": "code",
   "execution_count": null,
   "metadata": {},
   "outputs": [],
   "source": [
    "position = white_positions[0]"
   ]
  },
  {
   "cell_type": "code",
   "execution_count": null,
   "metadata": {},
   "outputs": [],
   "source": [
    "for move in position:\n",
    "    board.push_san(move)"
   ]
  },
  {
   "cell_type": "code",
   "execution_count": null,
   "metadata": {},
   "outputs": [],
   "source": [
    "move"
   ]
  },
  {
   "cell_type": "code",
   "execution_count": null,
   "metadata": {},
   "outputs": [],
   "source": [
    "fen = board.fen()"
   ]
  },
  {
   "cell_type": "code",
   "execution_count": null,
   "metadata": {},
   "outputs": [],
   "source": [
    "len(white_positions)"
   ]
  },
  {
   "cell_type": "code",
   "execution_count": null,
   "metadata": {},
   "outputs": [],
   "source": []
  },
  {
   "cell_type": "code",
   "execution_count": null,
   "metadata": {},
   "outputs": [],
   "source": []
  },
  {
   "cell_type": "code",
   "execution_count": null,
   "metadata": {},
   "outputs": [],
   "source": [
    "from random import randrange"
   ]
  },
  {
   "cell_type": "code",
   "execution_count": null,
   "metadata": {},
   "outputs": [],
   "source": [
    "num_positions = 50000\n",
    "bits1 = np.zeros((num_positions,773))\n",
    "bits2 = np.zeros((num_positions,773))\n",
    "count = 0\n",
    "y = np.zeros((num_positions,2))\n",
    "while count < num_positions:\n",
    "    white_position = white_positions[randrange(0,len(white_positions)-1)]\n",
    "    board = chess.Board()\n",
    "    for move in white_position:\n",
    "        board.push_san(move)\n",
    "    \n",
    "    white_bits = fen_to_bit(board.fen())\n",
    "\n",
    "    black_position = black_positions[randrange(0,len(black_positions)-1)]\n",
    "    board = chess.Board()\n",
    "    for move in black_position:\n",
    "        board.push_san(move)\n",
    "    \n",
    "    black_bits = fen_to_bit(board.fen())\n",
    "    \n",
    "    order = randrange(0,2)\n",
    "    \n",
    "#     if order == 0:\n",
    "#         all_bits.append(np.concatenate((white_bits.reshape(-1,1),black_bits.reshape(-1,1)),axis=1))\n",
    "#         y.append(np.array([1,0]))\n",
    "#     if order == 1:\n",
    "#         all_bits.append(np.concatenate((black_bits.reshape(-1,1),white_bits.reshape(-1,1)),axis=1))\n",
    "#         y.append(np.array([0,1]))\n",
    "\n",
    "#instantiate these above with zeros and then fill\n",
    "    if order == 0:\n",
    "        bits1[count,:] = white_bits\n",
    "        bits2[count,:] = black_bits\n",
    "        y[count,:] = [1,0]\n",
    "    if order == 1:\n",
    "        bits1[count,:] = black_bits\n",
    "        bits2[count,:] = white_bits\n",
    "        y[count,:] = [0,1]\n",
    "    count+=1\n",
    "    #print(count)"
   ]
  },
  {
   "cell_type": "code",
   "execution_count": null,
   "metadata": {},
   "outputs": [],
   "source": [
    "# np.save('bits1',bits1)\n",
    "# np.save('bits2',bits2)\n",
    "# np.save('y',y)"
   ]
  },
  {
   "cell_type": "markdown",
   "metadata": {},
   "source": [
    "___"
   ]
  },
  {
   "cell_type": "markdown",
   "metadata": {},
   "source": [
    "___"
   ]
  },
  {
   "cell_type": "markdown",
   "metadata": {},
   "source": [
    "# some other deep learning code I was referencing"
   ]
  },
  {
   "cell_type": "code",
   "execution_count": null,
   "metadata": {},
   "outputs": [],
   "source": [
    "############### other code\n",
    "class AutoEncoder:\n",
    "    def __init__(self):\n",
    "        self.positions = []\n",
    "        self.positions_val = []\n",
    "        self.model = None\n",
    "        self.encoder = None\n",
    "        self.decoder = None\n",
    "\n",
    "    def __encoder(self):\n",
    "        input_layer = Input(shape=(773,))\n",
    "        hidden_1 = Dense(600, activation='relu')(input_layer)\n",
    "        hidden_2 = Dense(400, activation='relu')(hidden_1)\n",
    "        hidden_3 = Dense(200, activation='relu')(hidden_2)\n",
    "        code = Dense(100, activation='relu')(hidden_3)\n",
    "\n",
    "        encoder = Model(input_layer, code, name='encoder')\n",
    "        encoder.summary()\n",
    "        self.encoder = encoder\n",
    "        return encoder\n",
    "\n",
    "    def __decoder(self):\n",
    "        code_input = Input(shape=(100,))\n",
    "        hidden_1 = DenseTied(200, activation='relu', tied_to=self.encoder.layers[4])(code_input)\n",
    "        hidden_2 = DenseTied(400, activation='relu', tied_to=self.encoder.layers[3])(hidden_1)\n",
    "        hidden_3 = DenseTied(600, activation='relu', tied_to=self.encoder.layers[2])(hidden_2)\n",
    "        output_layer = DenseTied(773, activation='sigmoid', tied_to=self.encoder.layers[1])(hidden_3)\n",
    "\n",
    "        decoder = Model(code_input, output_layer, name='decoder')\n",
    "        decoder.summary()\n",
    "        self.decoder = decoder\n",
    "        return decoder\n",
    "\n",
    "    def encoder_decoder(self, load=0):\n",
    "        input_layer = Input(shape=(773,))\n",
    "#         if load:\n",
    "#             self.encoder = keras.models.load_model('./Pos2Vec/encoder_v1/encoder_epoch66')\n",
    "        #else:\n",
    "        self.__encoder()\n",
    "        self.__decoder()\n",
    "\n",
    "        ec_out = self.encoder(input_layer)\n",
    "        dc_out = self.decoder(ec_out)\n",
    "\n",
    "        autoencoder = Model(input_layer, dc_out, name='autoencoder')\n",
    "        self.model = autoencoder\n",
    "        self.model.summary()\n",
    "        return autoencoder\n",
    "\n",
    "    def train(self, batch_size=256, epochs=20):\n",
    "        self.model.compile(optimizer='adam', loss='binary_crossentropy')\n",
    "        #self.load_data3()\n",
    "        print('concatenating')\n",
    "        positions = np.concatenate(bits_white_train,bits_black_train)\n",
    "        positions_val = np.concatenate(bits_white_val,bits_black_val)\n",
    "        for epoch in range(epochs):\n",
    "            print(epoch,' and shuffling')\n",
    "            #self.shuffle_positions()\n",
    "            gc.collect()\n",
    "            train = positions[:2000000]\n",
    "            self.model.fit(train, train, validation_data=(positions_val, positions_val), epochs=1, batch_size=batch_size)\n",
    "            train = []\n",
    "            gc.collect()\n",
    "\n",
    "            print('Saving ./encoder_epoch' + str(epoch+1))\n",
    "            self.encoder.save('./encoder_epoch' + str(epoch+1))\n",
    "\n",
    "    def save(self):\n",
    "        self.encoder.save('./encoder_v8')\n",
    "        # self.decoder.save('./weights3/decoder_v7.h5')\n",
    "        # self.model.save('./weights3/autoencoder_v8.h5')\n",
    "\n",
    "#     def load_data3(self,):\n",
    "#         positions = 2000000\n",
    "#         val_positions = 200000\n",
    "#         #num_per_file = 100000\n",
    "#         self.positions = np.zeros((2*positions, 773), dtype='float32')\n",
    "#         self.positions_val = np.zeros((2*val_positions, 773), dtype='float32')\n",
    "#         for i in range(int(positions)):\n",
    "#             print(i + 1)\n",
    "#             start = i\n",
    "#             self.positions[start:start] = np.load('./data3/white_train' + str(i + 1) + '.npy')\n",
    "#             self.positions[positions + start:positions + start + num_per_file] = np.load('./data3/black_train' + str(i + 1) + '.npy')\n",
    "#             if i < val_positions/num_per_file:\n",
    "#                 self.positions_val[start:start + num_per_file] = np.load('./data3/white_val' + str(i + 1) + '.npy')\n",
    "#                 self.positions_val[val_positions + start:val_positions + start + num_per_file] = np.load('./data3/black_val' + str(i + 1) + '.npy')\n",
    "\n",
    "    def shuffle_positions(self):\n",
    "        # print(\"---Shuffling white positions---\")\n",
    "        # random.shuffle(self.white_positions)\n",
    "        # gc.collect()\n",
    "        # print(\"---Shuffling black positions---\")\n",
    "        # random.shuffle(self.black_positions)\n",
    "        # gc.collect()\n",
    "        print(\"Shuffling positions\")\n",
    "        np.random.shuffle(self.positions,random_state=1)\n",
    "        gc.collect()\n",
    "\n",
    "    def predict(self, data):\n",
    "        return self.encoder.predict(data)"
   ]
  },
  {
   "cell_type": "code",
   "execution_count": null,
   "metadata": {},
   "outputs": [],
   "source": [
    "if __name__ == '__main__':\n",
    "    ae = AutoEncoder()\n",
    "    ae.encoder_decoder(load=0)\n",
    "    ae.train(batch_size=256, epochs=100)\n",
    "    ae.save()"
   ]
  },
  {
   "cell_type": "code",
   "execution_count": null,
   "metadata": {},
   "outputs": [],
   "source": []
  },
  {
   "cell_type": "code",
   "execution_count": null,
   "metadata": {},
   "outputs": [],
   "source": []
  },
  {
   "cell_type": "code",
   "execution_count": null,
   "metadata": {},
   "outputs": [],
   "source": [
    "def generator(white_bits, black_bits, batch_size):\n",
    "    # Create empty arrays to contain batch of features and labels#\n",
    "    batch_bits1 = np.zeros((batch_size, 773))\n",
    "    batch_bits2 = np.zeros((batch_size, 773))\n",
    "    batch_y = np.zeros((batch_size,2))\n",
    "    while True:\n",
    "        for i in range(batch_size):\n",
    "            temp_bits_white = np.zeros((1,773))\n",
    "            temp_bits_black = np.zeros((1,773))\n",
    "\n",
    "            #get white array\n",
    "            index1 = random.choice(range(0,len(white_bits)))\n",
    "            temp_bits_white[0,:] = white_bits[index1]\n",
    "            \n",
    "            #get black\n",
    "            index2 = random.choice(range(0,len(black_bits)))\n",
    "            temp_bits_black[0,:] = black_bits[index2]\n",
    "\n",
    "            #decide random order\n",
    "            random_order = random.choice([0,1])\n",
    "            if random_order == 0:\n",
    "                batch_bits1[i,:] = temp_bits_white[0,:]\n",
    "                batch_bits2[i,:] = temp_bits_black[0,:]\n",
    "                batch_y[i,:] = [1,0]\n",
    "            else:\n",
    "                batch_bits1[i,:] = temp_bits_black[0,:]\n",
    "                batch_bits2[i,:] = temp_bits_white[0,:]\n",
    "                batch_y[i,:] = [0,1]\n",
    "\n",
    "        yield [batch_bits1, batch_bits2], batch_y"
   ]
  },
  {
   "cell_type": "code",
   "execution_count": null,
   "metadata": {},
   "outputs": [],
   "source": [
    "a,b = next(generator(bits_white_train, bits_black_train, 10))"
   ]
  },
  {
   "cell_type": "markdown",
   "metadata": {},
   "source": [
    "Borrowed code for encoder incorporation:"
   ]
  },
  {
   "cell_type": "code",
   "execution_count": null,
   "metadata": {},
   "outputs": [],
   "source": [
    "class DeepChess:\n",
    "    def __init__(self):\n",
    "        self.model = None               # DeepChess model\n",
    "        self.encoder = None             # Encoder models, encodes 773 bits (chess board) to 100 bits\n",
    "\n",
    "    # Sets the deep neural network chess model. if load=1 then loads model. otherwise, creates a new model\n",
    "    def neural_chess(self, load=0):\n",
    "        input_size = 773\n",
    "        layer1_size = 400\n",
    "        layer2_size = 200\n",
    "        layer3_size = 100\n",
    "        if load == 1:\n",
    "            # model = keras.models.load_model('dc_models/my_model11.h5')\n",
    "            # encoder = keras.models.load_model('dc_models/encoder11.h5')\n",
    "            model = keras.models.load_model('dc_models/dropout/deepchess-18-0.281-0.846.h5')\n",
    "            encoder = None\n",
    "        else:\n",
    "            # encoder = keras.models.load_model('./Pos2Vec/encoder_v1/encoder_epoch94')\n",
    "\n",
    "            input_layer0 = Input(shape=(input_size, ))\n",
    "            layer1 = Dense(600, activation='relu')(input_layer0)\n",
    "            layer2 = Dense(400, activation='relu')(layer1)\n",
    "            layer3 = Dense(200, activation='relu')(layer2)\n",
    "            layer4 = Dense(100, activation='relu')(layer3)\n",
    "\n",
    "            encoder = Model(input_layer0, layer4)\n",
    "\n",
    "            input_layer1 = Input(shape=(input_size, ))\n",
    "            input_layer2 = Input(shape=(input_size,))\n",
    "\n",
    "            e1 = encoder(input_layer1)\n",
    "            e2 = encoder(input_layer2)\n",
    "\n",
    "            combined = concatenate([e1, e2])\n",
    "\n",
    "            layer1 = Dense(layer1_size, activation='relu')(combined)\n",
    "\n",
    "            layer2 = Dense(layer2_size, activation='relu')(layer1)\n",
    "\n",
    "            layer3 = Dense(layer3_size, activation='relu')(layer2)\n",
    "\n",
    "            output_layer = Dense(2, activation='softmax')(layer3)\n",
    "\n",
    "            model = Model(inputs=[input_layer1, input_layer2], outputs=output_layer)\n",
    "        self.model = model\n",
    "        self.encoder = encoder\n",
    "        model.summary()\n",
    "        return model\n",
    "\n",
    "    # Trains the model for a # of epochs"
   ]
  },
  {
   "cell_type": "code",
   "execution_count": null,
   "metadata": {},
   "outputs": [],
   "source": []
  }
 ],
 "metadata": {
  "kernelspec": {
   "display_name": "Python 3",
   "language": "python",
   "name": "python3"
  }
 },
 "nbformat": 4,
 "nbformat_minor": 2
}
