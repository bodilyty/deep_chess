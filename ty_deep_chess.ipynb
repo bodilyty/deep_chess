{
 "cells": [
  {
   "cell_type": "code",
   "execution_count": null,
   "metadata": {},
   "outputs": [],
   "source": [
    "from keras import layers\n",
    "from keras import models\n",
    "model = models.Sequential()\n",
    "model.add(layers.Conv2D(32, (3,3), activation = 'relu', input_shape = (28,28,1)))\n",
    "model.add(layers.MaxPooling2D((2,2)))\n",
    "model.add(layers.Conv2D(64, (3,3), activation = 'relu'))\n",
    "model.add(layers.MaxPooling2D((2,2)))\n",
    "model.add(layers.Conv2D(64, (3,3), activation = 'relu'))\n",
    "model.add(layers.Flatten())\n",
    "model.add(layers.Dense(64, activation='relu'))\n",
    "model.add(layers.Dense(10, activation='softmax'))"
   ]
  },
  {
   "cell_type": "code",
   "execution_count": null,
   "metadata": {},
   "outputs": [],
   "source": [
    "model.summary()"
   ]
  },
  {
   "cell_type": "code",
   "execution_count": null,
   "metadata": {},
   "outputs": [],
   "source": [
    "from keras.datasets import mnist\n",
    "from keras.utils import to_categorical\n",
    "(train_images, train_labels), (test_images, test_labels) = mnist.load_data()\n",
    "train_images = train_images.reshape((60000, 28, 28, 1))\n",
    "train_images = train_images.astype('float32') / 255\n",
    "test_images = test_images.reshape((10000, 28, 28, 1))\n",
    "test_images = test_images.astype('float32') / 255\n",
    "# one hote encodes them\n",
    "train_labels = to_categorical(train_labels)\n",
    "test_labels = to_categorical(test_labels)\n",
    "model.compile(optimizer = 'rmsprop',\n",
    "              loss = 'categorical_crossentropy',\n",
    "              metrics = ['accuracy'])\n",
    "model.fit(train_images, train_labels, epochs = 5, batch_size = 64)\n",
    "test_loss, test_acc = model.evaluate(test_images, test_labels)\n",
    "test_acc"
   ]
  },
  {
   "cell_type": "markdown",
   "metadata": {},
   "source": [
    "## Chess stuff"
   ]
  },
  {
   "cell_type": "code",
   "execution_count": 6,
   "metadata": {},
   "outputs": [],
   "source": [
    "import pgn\n",
    "import sys\n",
    "\n",
    "f = open('./2019-01.bare.[22377].pgn')\n",
    "pgn_text = f.read()\n",
    "f.close()\n"
   ]
  },
  {
   "cell_type": "code",
   "execution_count": 7,
   "metadata": {},
   "outputs": [],
   "source": [
    "games = pgn.loads(pgn_text)"
   ]
  },
  {
   "cell_type": "code",
   "execution_count": 8,
   "metadata": {},
   "outputs": [
    {
     "name": "stdout",
     "output_type": "stream",
     "text": [
      "['d4', 'g6', 'e4', 'Bg7', 'Nc3', 'd6', 'Be3', 'c6', 'Qd2', 'b5', 'Bd3', 'Nd7', 'a4', 'b4', 'Nce2', 'a5', 'Nh3', 'Ngf6', 'f3', 'c5', 'c3', 'bxc3', 'bxc3', 'Qc7', 'O-O', 'c4', 'Bc2', 'O-O', 'Nf2', 'e6', 'g4', 'Rb8', 'Nf4', 'e5', 'Ne2', 'Rd8', 'Rad1', 'h5', 'g5', 'Nh7', 'f4', 'exf4', 'Bxf4', 'Nhf8', 'h4', 'Nb6', 'Rb1', 'Bb7', 'Qc1', 'Nfd7', 'Nh1', 'Bc6', 'Qa3', 'Nc8', 'Rxb8', 'Qxb8', 'd5', 'Bb7', 'Rb1', 'Qc7', 'Nd4', 'Ba6', 'Nf2', 'Re8', 'Qb2', 'Ne5', 'Qb8', 'Qd7', 'Qa8', 'Na7', 'Rb8', 'Rxb8', 'Qxb8+', 'Nc8', 'Kf1', 'Kf8', 'Ke1', 'Qb7', 'Qxb7', 'Bxb7', 'Nd1', 'Ng4', 'Nb2', 'Be5', 'Bxe5', 'Nxe5', 'Bd1', 'Ke7', 'Be2', 'Nb6', 'Kf2', 'Ba6', 'Nc6+', 'Nxc6', 'dxc6', 'Ke6', 'Ke3', 'Ke5', 'Bf3', 'Bc8', 'Bg2', 'Bg4', 'Kf2', 'Kf4', 'Bh1', 'Bc8', 'Bf3', 'Be6', 'c7', 'Bd7', 'Be2', 'd5', 'exd5', 'Nxd5', 'Bxc4', 'Nxc7', 'Nd3+', 'Kf5', 'Nc5', 'Be8', 'Kf3', 'Ke5', 'Ke3', 'Kf5', 'Nb7', 'Kg4', 'Nxa5', 'Kxh4', 'Kf4', 'Bxa4', 'Bxf7', 'Be8', 'Bg8', 'Bd7', 'Bf7', 'Be6', 'Bxg6', 'Nd5+', 'Ke5', 'Kxg5', 'Bxh5', 'Kxh5', 'Kxe6', 'Nxc3', 'Ke5', 'Nb1', 'Kf5', 'Nd2', '1/2-1/2']\n"
     ]
    }
   ],
   "source": [
    "for num,game in enumerate(games):\n",
    "    if num==1:\n",
    "        print(game.moves)"
   ]
  },
  {
   "cell_type": "code",
   "execution_count": 9,
   "metadata": {},
   "outputs": [
    {
     "data": {
      "text/plain": [
       "22377"
      ]
     },
     "execution_count": 9,
     "metadata": {},
     "output_type": "execute_result"
    }
   ],
   "source": [
    "len(games)"
   ]
  },
  {
   "cell_type": "code",
   "execution_count": 10,
   "metadata": {},
   "outputs": [],
   "source": [
    "no_draws = []\n",
    "for game in games:\n",
    "    if game.result != '1/2-1/2':\n",
    "        no_draws.append(game)"
   ]
  },
  {
   "cell_type": "code",
   "execution_count": 11,
   "metadata": {},
   "outputs": [
    {
     "data": {
      "text/plain": [
       "14469"
      ]
     },
     "execution_count": 11,
     "metadata": {},
     "output_type": "execute_result"
    }
   ],
   "source": [
    "len(no_draws)"
   ]
  },
  {
   "cell_type": "code",
   "execution_count": 12,
   "metadata": {},
   "outputs": [],
   "source": [
    "white_wins = []\n",
    "black_wins = []\n",
    "for game in no_draws:\n",
    "    if len(game.moves) < 10:\n",
    "        print('short game')\n",
    "    if game.result == '1-0':\n",
    "        white_wins.append(game.moves[:-1])\n",
    "    if game.result == '0-1':\n",
    "        black_wins.append(game.moves[:-1])"
   ]
  },
  {
   "cell_type": "code",
   "execution_count": 13,
   "metadata": {},
   "outputs": [],
   "source": [
    "import numpy as np"
   ]
  },
  {
   "cell_type": "code",
   "execution_count": null,
   "metadata": {},
   "outputs": [],
   "source": []
  },
  {
   "cell_type": "code",
   "execution_count": 14,
   "metadata": {},
   "outputs": [],
   "source": [
    "#select 10 random positions per game\n",
    "black_positions = []\n",
    "white_positions = []\n",
    "for game in white_wins:\n",
    "    num=0\n",
    "    #select 10 random positions:\n",
    "    while num <10:\n",
    "        potential_position = game[0:np.random.randint(10,len(game))]\n",
    "        #print(potential_position)\n",
    "        if 'x' in potential_position[-1]:\n",
    "            continue\n",
    "        else:\n",
    "            white_positions.append(potential_position)\n",
    "            #print('good position',potential_position)\n",
    "            num+=1\n",
    "for game in black_wins:\n",
    "    num=0\n",
    "    #select 10 random positions:\n",
    "    while num <10:\n",
    "        potential_position = game[0:np.random.randint(10,len(game))]\n",
    "        #print(potential_position)\n",
    "        if 'x' in potential_position[-1]:\n",
    "            continue\n",
    "        else:\n",
    "            black_positions.append(potential_position)\n",
    "            #print('good position',potential_position)\n",
    "            num+=1\n",
    "        "
   ]
  },
  {
   "cell_type": "code",
   "execution_count": 15,
   "metadata": {},
   "outputs": [
    {
     "name": "stdout",
     "output_type": "stream",
     "text": [
      "8148\n"
     ]
    },
    {
     "data": {
      "text/plain": [
       "81480"
      ]
     },
     "execution_count": 15,
     "metadata": {},
     "output_type": "execute_result"
    }
   ],
   "source": [
    "print(len(white_wins))\n",
    "len(white_positions)"
   ]
  },
  {
   "cell_type": "code",
   "execution_count": 16,
   "metadata": {},
   "outputs": [],
   "source": [
    "import chess"
   ]
  },
  {
   "cell_type": "code",
   "execution_count": 18,
   "metadata": {},
   "outputs": [],
   "source": [
    "board = chess.Board()"
   ]
  },
  {
   "cell_type": "code",
   "execution_count": 20,
   "metadata": {},
   "outputs": [],
   "source": [
    "for move in position:\n",
    "    board.push_san(move)"
   ]
  },
  {
   "cell_type": "code",
   "execution_count": 21,
   "metadata": {},
   "outputs": [],
   "source": [
    "fen = board.fen()"
   ]
  },
  {
   "cell_type": "code",
   "execution_count": 30,
   "metadata": {},
   "outputs": [],
   "source": [
    "lines = fen.split(sep='/')"
   ]
  },
  {
   "cell_type": "code",
   "execution_count": 31,
   "metadata": {},
   "outputs": [],
   "source": [
    "two = lines[7].split(sep=' ',maxsplit=1)"
   ]
  },
  {
   "cell_type": "code",
   "execution_count": 37,
   "metadata": {},
   "outputs": [],
   "source": [
    "lines.append(two[0])\n",
    "lines.append(two[1])"
   ]
  },
  {
   "cell_type": "code",
   "execution_count": 38,
   "metadata": {},
   "outputs": [
    {
     "data": {
      "text/plain": [
       "['r2qkb1r',\n",
       " '3b1ppp',\n",
       " 'p1nppn2',\n",
       " '1p4B1',\n",
       " '3NP3',\n",
       " 'P1N5',\n",
       " '1PPQBPPP',\n",
       " '2KR3R',\n",
       " 'b kq - 0 10']"
      ]
     },
     "execution_count": 38,
     "metadata": {},
     "output_type": "execute_result"
    }
   ],
   "source": [
    "lines"
   ]
  },
  {
   "cell_type": "code",
   "execution_count": 17,
   "metadata": {},
   "outputs": [
    {
     "ename": "NameError",
     "evalue": "name 'get_bit' is not defined",
     "output_type": "error",
     "traceback": [
      "\u001b[0;31m---------------------------------------------------------------------------\u001b[0m",
      "\u001b[0;31mNameError\u001b[0m                                 Traceback (most recent call last)",
      "\u001b[0;32m<ipython-input-17-1e022a00b28c>\u001b[0m in \u001b[0;36m<module>\u001b[0;34m\u001b[0m\n\u001b[1;32m      6\u001b[0m         \u001b[0mboard\u001b[0m\u001b[0;34m.\u001b[0m\u001b[0mpush_san\u001b[0m\u001b[0;34m(\u001b[0m\u001b[0mmove\u001b[0m\u001b[0;34m)\u001b[0m\u001b[0;34m\u001b[0m\u001b[0;34m\u001b[0m\u001b[0m\n\u001b[1;32m      7\u001b[0m \u001b[0;34m\u001b[0m\u001b[0m\n\u001b[0;32m----> 8\u001b[0;31m     \u001b[0mbits\u001b[0m \u001b[0;34m=\u001b[0m \u001b[0mget_bit\u001b[0m\u001b[0;34m(\u001b[0m\u001b[0mboard\u001b[0m\u001b[0;34m.\u001b[0m\u001b[0mfen\u001b[0m\u001b[0;34m(\u001b[0m\u001b[0;34m)\u001b[0m\u001b[0;34m)\u001b[0m\u001b[0;34m\u001b[0m\u001b[0;34m\u001b[0m\u001b[0m\n\u001b[0m\u001b[1;32m      9\u001b[0m     \u001b[0;31m#print(bits)\u001b[0m\u001b[0;34m\u001b[0m\u001b[0;34m\u001b[0m\u001b[0;34m\u001b[0m\u001b[0m\n\u001b[1;32m     10\u001b[0m     \u001b[0mwhite_bits\u001b[0m\u001b[0;34m.\u001b[0m\u001b[0mappend\u001b[0m\u001b[0;34m(\u001b[0m\u001b[0mbits\u001b[0m\u001b[0;34m)\u001b[0m\u001b[0;34m\u001b[0m\u001b[0;34m\u001b[0m\u001b[0m\n",
      "\u001b[0;31mNameError\u001b[0m: name 'get_bit' is not defined"
     ]
    }
   ],
   "source": [
    "white_bits = []\n",
    "count = 0\n",
    "for position in white_positions:\n",
    "    board = chess.Board()\n",
    "    for move in position:\n",
    "        board.push_san(move)\n",
    "    \n",
    "    bits = get_bit(board.fen())\n",
    "    #print(bits)\n",
    "    white_bits.append(bits)\n",
    "    count+=1\n",
    "    #print(count)"
   ]
  },
  {
   "cell_type": "code",
   "execution_count": null,
   "metadata": {},
   "outputs": [],
   "source": [
    "def fen_to_bit(fen):\n",
    "    "
   ]
  },
  {
   "cell_type": "code",
   "execution_count": null,
   "metadata": {},
   "outputs": [],
   "source": []
  },
  {
   "cell_type": "code",
   "execution_count": null,
   "metadata": {},
   "outputs": [],
   "source": []
  },
  {
   "cell_type": "code",
   "execution_count": null,
   "metadata": {},
   "outputs": [],
   "source": []
  },
  {
   "cell_type": "code",
   "execution_count": null,
   "metadata": {},
   "outputs": [],
   "source": [
    "def get_bit(fen):\n",
    "    foo = bitifyFEN(beautifyFEN(board.fen()))\n",
    "#     strings = [str(int(bit)) for bit in foo]\n",
    "#     string = str()\n",
    "#     for i in strings:\n",
    "#         string = string+i\n",
    "    return(foo)"
   ]
  },
  {
   "cell_type": "code",
   "execution_count": null,
   "metadata": {},
   "outputs": [],
   "source": [
    "foo"
   ]
  },
  {
   "cell_type": "code",
   "execution_count": null,
   "metadata": {},
   "outputs": [],
   "source": [
    "pos = white_positions[82]"
   ]
  },
  {
   "cell_type": "code",
   "execution_count": null,
   "metadata": {},
   "outputs": [],
   "source": [
    "board = chess.Board()\n",
    "for move in pos:\n",
    "    board.push_san(move)"
   ]
  },
  {
   "cell_type": "code",
   "execution_count": null,
   "metadata": {},
   "outputs": [],
   "source": [
    "board.fen()"
   ]
  },
  {
   "cell_type": "code",
   "execution_count": null,
   "metadata": {},
   "outputs": [],
   "source": [
    "white_bits = []\n",
    "count = 0\n",
    "for position in white_positions:\n",
    "    board = chess.Board()\n",
    "    for move in position:\n",
    "        board.push_san(move)\n",
    "    \n",
    "    bits = get_bit(board.fen())\n",
    "    #print(bits)\n",
    "    white_bits.append(bits)\n",
    "    count+=1\n",
    "    #print(count)"
   ]
  },
  {
   "cell_type": "code",
   "execution_count": null,
   "metadata": {},
   "outputs": [],
   "source": [
    "black_bits = []\n",
    "count = 0\n",
    "for position in black_positions:\n",
    "    board = chess.Board()\n",
    "    for move in position:\n",
    "        board.push_san(move)\n",
    "    \n",
    "    bits = get_bit(board.fen())\n",
    "    #print(bits)\n",
    "    black_bits.append(bits)\n",
    "    count+=1\n",
    "    #print(count)"
   ]
  },
  {
   "cell_type": "code",
   "execution_count": null,
   "metadata": {},
   "outputs": [],
   "source": [
    "from keras import layers\n",
    "from keras import models\n",
    "model = models.Sequential()\n",
    "model.add(layers.Conv2D(32, (3,3), activation = 'relu', input_shape = (28,28,1)))"
   ]
  },
  {
   "cell_type": "code",
   "execution_count": null,
   "metadata": {},
   "outputs": [],
   "source": [
    "model = model"
   ]
  },
  {
   "cell_type": "code",
   "execution_count": null,
   "metadata": {},
   "outputs": [],
   "source": [
    "import numpy as np\n",
    "import chess\n",
    "import chess.pgn\n",
    "import random\n",
    "import itertools\n",
    "import pickle\n",
    "\n",
    "pieces = {\n",
    "\t'p': 1,\n",
    "\t'P': -1,\n",
    "\t'n': 2,\n",
    "\t'N': -2,\n",
    "\t'b': 3,\n",
    "\t'B': -3,\n",
    "\t'r': 4,\n",
    "\t'R': -4,\n",
    "\t'q': 5,\n",
    "\t'Q': -5,\n",
    "\t'k': 6,\n",
    "\t'K': -6\n",
    "\t\t}\n",
    "\n",
    "def shortenString(s):\n",
    "\ts = s[:s.rfind(\" \")]\n",
    "\treturn s;\n",
    "\n",
    "def beautifyFEN(f):\n",
    "\tfor i in range(4):\n",
    "\t\tf = shortenString(f)\n",
    "\t\n",
    "\ttoMove = f[-1]\n",
    "\tif toMove == 'w':\n",
    "\t\ttoMove = 7\n",
    "\telse:\n",
    "\t\ttoMove = -7\n",
    "\n",
    "\tf = shortenString(f)\n",
    "\n",
    "\tnewf = []\n",
    "\n",
    "\tfor char in f:\n",
    "\t\tif char.isdigit():\n",
    "\t\t\tfor i in range(int(char)):\n",
    "\t\t\t\tnewf.append(0)\n",
    "\t\telif char != '/':\n",
    "\t\t\t#newf.append(('pPnNbBrRqQkK'.find(char)+1))\n",
    "\t\t\tnewf.append(pieces[char])\n",
    "\t\n",
    "\tnewf.append(toMove)\n",
    "#\tprint(f)\n",
    "#\tprint(newf)\n",
    "\treturn\tnewf\n",
    "\n",
    "def bitifyFEN(f):\n",
    "\tarrs = []\n",
    "\tresult = []\n",
    "\ts = \t{\n",
    "\t\t'1' : 0,\n",
    "\t\t'2' : 1,\n",
    "\t\t'3' : 2,\n",
    "\t\t'4' : 3,\n",
    "\t\t'5' : 4,\n",
    "\t\t'6' : 5,\n",
    "\t\t'-1' : 6,\n",
    "\t\t'-2' : 7,\n",
    "\t\t'-3' : 8,\n",
    "\t\t'-4' : 9,\n",
    "\t\t'-5' : 10,\n",
    "\t\t'-6' : 11,\n",
    "\t\t}\n",
    "\t\t \t\n",
    "\tfor i in range(12):\n",
    "\t\tarrs.append(np.zeros(64))\n",
    "\n",
    "\tfor i in range(64):\n",
    "\t\tc = str(int(f[i]))\n",
    "\t\tif c != '0':\n",
    "\t\t\tc = s[c]\n",
    "\t\t \t#c = s[int(round(c))]\n",
    "\t\t\tarrs[c][i] = 1\n",
    "\n",
    "\tfor i in range(12):\n",
    "\t\tresult.append(arrs[i])\n",
    "\t\n",
    "\tresult = list(itertools.chain.from_iterable(result))\n",
    "\t\n",
    "\tif f[64] == -7:\n",
    "\t\tresult.append(1)\n",
    "\telse:\n",
    "\t\tresult.append(0)\n",
    "\t\n",
    "\treturn result\n",
    "\n",
    "def arrToBin(arr):\n",
    "\tfirst = arr[0]\n",
    "\tsecond = arr[1]\n",
    "\n",
    "\t#r1 = np.array_str(first) \n",
    "\t#r2 = np.array_str(second)\n",
    "\n",
    "\t#r1 = r1.translate(None, '[] ')\n",
    "\t#r2 = r2.translate(None, '[] ')\n",
    "\n",
    "\t#print(r1)\n",
    "\t#for i in range(65):\n",
    "\t#\tr1 = r1.join(str(first[i]))\n",
    "\t#\tr2 = r2.join(str(second[i]))\n",
    "\n",
    "\tr1 = bitifyFEN(first)\n",
    "\tr2 = bitifyFEN(second)\n",
    "\treturn [r1,r2]\n",
    "\t\n",
    "def convert():\n",
    "\tbatches = 0;\n",
    "\tfinal = []\n",
    "\tfinal_l = []\n",
    "\tfor i in range(24):\n",
    "\t\tprint(i)\n",
    "\t\tname = 'pGames/volume' + str(batches) + '.p'\n",
    "\t\tf = open(name)\n",
    "\t\tdata = pickle.load(f) \n",
    "\t\tx = data['x']\n",
    "\t\tx_l = data['x_labels']\n",
    "\t\tfor j in range(25000):\n",
    "\t\t\tif j%1000 == 0:\t\n",
    "\t\t\t\tprint(j)\n",
    "\t\t\tfinal.append(arrToBin(x[j]))\n",
    "\t\t\tfinal_l.append(x_l[j])\t\n",
    "\t\tf.close()\n",
    "\t\t\n",
    "\t\tif i > 0 and i%5 == 0:\n",
    "\t\t\ttemp = open('cvol' + str(i) + '.p', \"wb\")\n",
    "\t\t\tfull_data = {\"x\": final, \"x_labels\": final_l}\n",
    "\t\t\tpickle.dump(full_data, temp)\n",
    "\t\t\ttemp.close()\n",
    "\t\t\tfinal = []\n",
    "\t\t\tfinal_l = []\n",
    "\n",
    "\tf = open('converted.p', \"wb\")\n",
    "\tfull_data = {\"x\": final, \"x_labels\": final_l}\n",
    "\tpickle.dump(full_data, f)\n",
    "\tf.close()\n",
    "\treturn\n",
    "\n",
    "#convert()\n",
    "#bitifyFEN(beautifyFEN('rnbqkbnr/pppppppp/8/8/4P3/8/PPPP1PPP/RNBQKBNR w KQkq e3 0 1'))"
   ]
  },
  {
   "cell_type": "code",
   "execution_count": null,
   "metadata": {},
   "outputs": [],
   "source": []
  },
  {
   "cell_type": "code",
   "execution_count": null,
   "metadata": {},
   "outputs": [],
   "source": []
  }
 ],
 "metadata": {
  "kernelspec": {
   "display_name": "Python 3",
   "language": "python",
   "name": "python3"
  },
  "language_info": {
   "codemirror_mode": {
    "name": "ipython",
    "version": 3
   },
   "file_extension": ".py",
   "mimetype": "text/x-python",
   "name": "python",
   "nbconvert_exporter": "python",
   "pygments_lexer": "ipython3",
   "version": "3.7.4"
  }
 },
 "nbformat": 4,
 "nbformat_minor": 2
}
